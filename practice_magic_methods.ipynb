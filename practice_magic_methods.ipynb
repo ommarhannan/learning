{
 "cells": [
  {
   "cell_type": "code",
   "execution_count": null,
   "metadata": {},
   "outputs": [],
   "source": [
    "#This file is to practice using magic methods"
   ]
  },
  {
   "cell_type": "code",
   "execution_count": 15,
   "metadata": {},
   "outputs": [],
   "source": [
    "#let's start by creating a class called House.  Let's add a method that would keep count of bathrooms and rooms added\n",
    "\n",
    "class House:\n",
    "    def __init__(self, rooms, bathrooms):\n",
    "        self.rooms = rooms\n",
    "        self.bathrooms = bathrooms\n",
    "    \n",
    "    def __add__(self, Other):\n",
    "        if type(Other) == Rooms:\n",
    "            self.rooms += 1\n",
    "        elif type(Other) == Bathrooms:\n",
    "            self.bathrooms += 1\n",
    "        return self\n",
    "\n",
    "class Rooms:\n",
    "    pass\n",
    "\n",
    "class Bathrooms:\n",
    "    pass\n"
   ]
  },
  {
   "cell_type": "code",
   "execution_count": 16,
   "metadata": {},
   "outputs": [],
   "source": [
    "my_house = House(0,0)"
   ]
  },
  {
   "cell_type": "code",
   "execution_count": 17,
   "metadata": {},
   "outputs": [],
   "source": [
    "new_room = Rooms()"
   ]
  },
  {
   "cell_type": "code",
   "execution_count": 18,
   "metadata": {},
   "outputs": [
    {
     "data": {
      "text/plain": [
       "<__main__.House at 0x1059ae3c0>"
      ]
     },
     "execution_count": 18,
     "metadata": {},
     "output_type": "execute_result"
    }
   ],
   "source": [
    "my_house + new_room"
   ]
  },
  {
   "cell_type": "code",
   "execution_count": 19,
   "metadata": {},
   "outputs": [
    {
     "name": "stdout",
     "output_type": "stream",
     "text": [
      "1\n"
     ]
    }
   ],
   "source": [
    "print(my_house.rooms)  # Output: 1"
   ]
  },
  {
   "cell_type": "code",
   "execution_count": 20,
   "metadata": {},
   "outputs": [],
   "source": [
    "new_bathroom = Bathrooms()"
   ]
  },
  {
   "cell_type": "code",
   "execution_count": 21,
   "metadata": {},
   "outputs": [
    {
     "data": {
      "text/plain": [
       "<__main__.House at 0x1059ae3c0>"
      ]
     },
     "execution_count": 21,
     "metadata": {},
     "output_type": "execute_result"
    }
   ],
   "source": [
    "my_house + new_bathroom"
   ]
  },
  {
   "cell_type": "code",
   "execution_count": 22,
   "metadata": {},
   "outputs": [
    {
     "name": "stdout",
     "output_type": "stream",
     "text": [
      "The number of rooms are: 1 and the number of bathrooms are: 1\n"
     ]
    }
   ],
   "source": [
    "print(f\"The number of rooms are: {my_house.rooms} and the number of bathrooms are: {my_house.bathrooms}\")  # Output: The number of rooms are: 1 and the number of bathrooms are: 1  "
   ]
  },
  {
   "cell_type": "code",
   "execution_count": 23,
   "metadata": {},
   "outputs": [],
   "source": [
    "my_house.rooms = 5"
   ]
  },
  {
   "cell_type": "code",
   "execution_count": 24,
   "metadata": {},
   "outputs": [
    {
     "name": "stdout",
     "output_type": "stream",
     "text": [
      "The number of rooms are: 5 and the number of bathrooms are: 1\n"
     ]
    }
   ],
   "source": [
    "print(f\"The number of rooms are: {my_house.rooms} and the number of bathrooms are: {my_house.bathrooms}\")  # Output: The number of rooms are: 1 and the number of bathrooms are: 1  "
   ]
  },
  {
   "cell_type": "code",
   "execution_count": null,
   "metadata": {},
   "outputs": [],
   "source": []
  }
 ],
 "metadata": {
  "kernelspec": {
   "display_name": "Python 3",
   "language": "python",
   "name": "python3"
  },
  "language_info": {
   "codemirror_mode": {
    "name": "ipython",
    "version": 3
   },
   "file_extension": ".py",
   "mimetype": "text/x-python",
   "name": "python",
   "nbconvert_exporter": "python",
   "pygments_lexer": "ipython3",
   "version": "3.13.0"
  }
 },
 "nbformat": 4,
 "nbformat_minor": 2
}
