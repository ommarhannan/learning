{
 "cells": [
  {
   "cell_type": "code",
   "execution_count": 7,
   "metadata": {},
   "outputs": [],
   "source": [
    "# create a house class which defaults with a size, colour, items in front yard.  Also send a message automaticall once it is built.\n",
    "\n",
    "class Rooms:\n",
    "    pass\n",
    "\n",
    "class House:\n",
    "    def __init__(self, size, colour='White', front_yard = ['swing'], rooms=0\n",
    "                 ):\n",
    "        self.size = size\n",
    "        self.colour = colour\n",
    "        self.front_yard = front_yard\n",
    "        self.rooms = rooms\n",
    "        self.send_message()\n",
    "    \n",
    "    def send_message(self):\n",
    "        print(f\"A {self.size} house with {self.colour} colour and items {self.front_yard} in the front yard has been built.\")\n",
    "    \n",
    "    def __add__(self, other):\n",
    "        if type(other) == Rooms:\n",
    "            self.rooms += 1\n",
    "        \n",
    "        return self\n",
    "    \n",
    "\n",
    "    \n"
   ]
  },
  {
   "cell_type": "code",
   "execution_count": 8,
   "metadata": {},
   "outputs": [
    {
     "name": "stdout",
     "output_type": "stream",
     "text": [
      "A 10000 house with Blue colour and items ['car', 'tree'] in the front yard has been built.\n",
      "<__main__.House object at 0x11527d2b0>\n"
     ]
    }
   ],
   "source": [
    "my_house = House(10000, 'Blue', ['car', 'tree'])\n",
    "print(my_house)"
   ]
  },
  {
   "cell_type": "code",
   "execution_count": 9,
   "metadata": {},
   "outputs": [],
   "source": [
    "newroom = Rooms()"
   ]
  },
  {
   "cell_type": "code",
   "execution_count": 11,
   "metadata": {},
   "outputs": [
    {
     "data": {
      "text/plain": [
       "<__main__.House at 0x11527d2b0>"
      ]
     },
     "execution_count": 11,
     "metadata": {},
     "output_type": "execute_result"
    }
   ],
   "source": [
    "my_house + newroom"
   ]
  },
  {
   "cell_type": "code",
   "execution_count": 12,
   "metadata": {},
   "outputs": [
    {
     "data": {
      "text/plain": [
       "1"
      ]
     },
     "execution_count": 12,
     "metadata": {},
     "output_type": "execute_result"
    }
   ],
   "source": [
    "my_house.rooms"
   ]
  },
  {
   "cell_type": "code",
   "execution_count": 13,
   "metadata": {},
   "outputs": [
    {
     "data": {
      "text/plain": [
       "<__main__.House at 0x11527d2b0>"
      ]
     },
     "execution_count": 13,
     "metadata": {},
     "output_type": "execute_result"
    }
   ],
   "source": [
    "my_house + newroom"
   ]
  },
  {
   "cell_type": "code",
   "execution_count": 14,
   "metadata": {},
   "outputs": [
    {
     "data": {
      "text/plain": [
       "2"
      ]
     },
     "execution_count": 14,
     "metadata": {},
     "output_type": "execute_result"
    }
   ],
   "source": [
    "my_house.rooms"
   ]
  },
  {
   "cell_type": "code",
   "execution_count": null,
   "metadata": {},
   "outputs": [],
   "source": []
  }
 ],
 "metadata": {
  "kernelspec": {
   "display_name": "Python 3",
   "language": "python",
   "name": "python3"
  },
  "language_info": {
   "codemirror_mode": {
    "name": "ipython",
    "version": 3
   },
   "file_extension": ".py",
   "mimetype": "text/x-python",
   "name": "python",
   "nbconvert_exporter": "python",
   "pygments_lexer": "ipython3",
   "version": "3.13.0"
  }
 },
 "nbformat": 4,
 "nbformat_minor": 2
}
